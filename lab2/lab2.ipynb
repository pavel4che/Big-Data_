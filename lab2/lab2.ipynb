{
 "cells": [
  {
   "cell_type": "code",
   "execution_count": 1,
   "metadata": {
    "id": "FI-xzpBSMIfa"
   },
   "outputs": [],
   "source": [
    "import pyspark\n",
    "import os\n",
    "\n",
    "from datetime import datetime\n",
    "from pyspark.sql.functions import col\n",
    "from pyspark.sql import SparkSession\n",
    "from pyspark import SparkContext, SparkConf\n",
    "from pyspark.sql.types import StructType, StructField, StringType, DateType\n"
   ]
  },
  {
   "cell_type": "code",
   "execution_count": 2,
   "metadata": {
    "id": "IhFIAGPnMLOG"
   },
   "outputs": [
    {
     "name": "stderr",
     "output_type": "stream",
     "text": [
      "/usr/local/lib/python3.6/dist-packages/pyspark/context.py:238: FutureWarning: Python 3.6 support is deprecated in Spark 3.2.\n",
      "  FutureWarning\n"
     ]
    },
    {
     "data": {
      "text/html": [
       "\n",
       "            <div>\n",
       "                <p><b>SparkSession - in-memory</b></p>\n",
       "                \n",
       "        <div>\n",
       "            <p><b>SparkContext</b></p>\n",
       "\n",
       "            <p><a href=\"http://maprdemo.mapr.io:4041\">Spark UI</a></p>\n",
       "\n",
       "            <dl>\n",
       "              <dt>Version</dt>\n",
       "                <dd><code>v3.2.3</code></dd>\n",
       "              <dt>Master</dt>\n",
       "                <dd><code>local[*]</code></dd>\n",
       "              <dt>AppName</dt>\n",
       "                <dd><code>lb2</code></dd>\n",
       "            </dl>\n",
       "        </div>\n",
       "        \n",
       "            </div>\n",
       "        "
      ],
      "text/plain": [
       "<pyspark.sql.session.SparkSession at 0x7ff97cf87e80>"
      ]
     },
     "execution_count": 2,
     "metadata": {},
     "output_type": "execute_result"
    }
   ],
   "source": [
    "os.environ['PYSPARK_SUBMIT_ARGS'] = '--packages com.databricks:spark-xml_2.12:0.13.0 pyspark-shell'\n",
    "\n",
    "app_name = \"lb2\"\n",
    "\n",
    "sc = SparkSession.builder.appName(app_name).master(\"local[*]\").getOrCreate()\n",
    "sc"
   ]
  },
  {
   "cell_type": "code",
   "execution_count": 5,
   "metadata": {
    "id": "BR2c5OamMWPO"
   },
   "outputs": [],
   "source": [
    "data = sc.read.csv(\"programming-languages.csv\")"
   ]
  },
  {
   "cell_type": "code",
   "execution_count": 6,
   "metadata": {
    "id": "cqIrWf2dMXSA"
   },
   "outputs": [
    {
     "data": {
      "text/plain": [
       "['name',\n",
       " 'A# .NET',\n",
       " 'A# (Axiom)',\n",
       " 'A-0 System',\n",
       " 'A+',\n",
       " 'A++',\n",
       " 'ABAP',\n",
       " 'ABC',\n",
       " 'ABC ALGOL',\n",
       " 'ABSET']"
      ]
     },
     "execution_count": 6,
     "metadata": {},
     "output_type": "execute_result"
    }
   ],
   "source": [
    "languages = [str(x[0]) for x in data.collect()]\n",
    "\n",
    "languages[:10]"
   ]
  },
  {
   "cell_type": "code",
   "execution_count": 8,
   "metadata": {
    "id": "I7sTXtr0MdJ1"
   },
   "outputs": [
    {
     "data": {
      "text/plain": [
       "Row(_AcceptedAnswerId=7, _AnswerCount=13, _Body=\"<p>I want to use a track-bar to change a form's opacity.</p>\\n\\n<p>This is my code:</p>\\n\\n<pre><code>decimal trans = trackBar1.Value / 5000;\\nthis.Opacity = trans;\\n</code></pre>\\n\\n<p>When I build the application, it gives the following error:</p>\\n\\n<blockquote>\\n  <p>Cannot implicitly convert type <code>'decimal'</code> to <code>'double'</code></p>\\n</blockquote>\\n\\n<p>I tried using <code>trans</code> and <code>double</code> but then the control doesn't work. This code worked fine in a past VB.NET project.</p>\\n\", _ClosedDate=None, _CommentCount=2, _CommunityOwnedDate=datetime.datetime(2012, 10, 31, 16, 42, 47, 213000), _CreationDate=datetime.datetime(2008, 7, 31, 21, 42, 52, 667000), _FavoriteCount=48, _Id=4, _LastActivityDate=datetime.datetime(2019, 7, 19, 1, 39, 54, 173000), _LastEditDate=datetime.datetime(2019, 7, 19, 1, 39, 54, 173000), _LastEditorDisplayName='Rich B', _LastEditorUserId=3641067, _OwnerDisplayName=None, _OwnerUserId=8, _ParentId=None, _PostTypeId=1, _Score=630, _Tags='<c#><floating-point><type-conversion><double><decimal>', _Title='Convert Decimal to Double?', _ViewCount=42817)"
      ]
     },
     "execution_count": 8,
     "metadata": {},
     "output_type": "execute_result"
    }
   ],
   "source": [
    "posts_samples = sc.read.format(\"xml\").options(rowTag=\"row\").load('posts_sample.xml')\n",
    "\n",
    "posts_samples.first()"
   ]
  },
  {
   "cell_type": "markdown",
   "metadata": {
    "id": "jFjY9BCdM-A7"
   },
   "source": [
    "**Добавим функции обработки данных**"
   ]
  },
  {
   "cell_type": "code",
   "execution_count": 9,
   "metadata": {
    "id": "Slt7Wj0pM8TB"
   },
   "outputs": [],
   "source": [
    "def findLanguages(x):\n",
    "  tag = None\n",
    "\n",
    "# Ищем вхождение названия ЯП в строке в нижнем регистре\n",
    "  for language in languages:\n",
    "    if \"<\" + language.lower() + \">\" in x._Tags.lower():\n",
    "      tag = language\n",
    "      break\n",
    "\n",
    "  if tag is None:\n",
    "    return None\n",
    "\n",
    "  return (x._Id, tag)"
   ]
  },
  {
   "cell_type": "code",
   "execution_count": 10,
   "metadata": {
    "id": "1irRXScGNkRQ"
   },
   "outputs": [],
   "source": [
    "# Проверка входит ли дата в диапазон \n",
    "\n",
    "def isDateValid(x, year):\n",
    "  start = datetime(year=year, month=1, day=1)\n",
    "  end = datetime(year=year, month=12, day=31)\n",
    "\n",
    "  CreationDate = x._CreationDate\n",
    "\n",
    "  return CreationDate >= start and CreationDate <= end"
   ]
  },
  {
   "cell_type": "markdown",
   "metadata": {
    "id": "m3H2xCjbQIXs"
   },
   "source": [
    "**Обработка данных**"
   ]
  },
  {
   "cell_type": "code",
   "execution_count": 13,
   "metadata": {
    "id": "GcUb7aQrN0nE"
   },
   "outputs": [
    {
     "name": "stdout",
     "output_type": "stream",
     "text": [
      "+-----------+-------------------+\n",
      "|   Language|Mentions_count_2010|\n",
      "+-----------+-------------------+\n",
      "|       Java|                 52|\n",
      "| JavaScript|                 44|\n",
      "|        PHP|                 42|\n",
      "|     Python|                 25|\n",
      "|Objective-C|                 22|\n",
      "|          C|                 20|\n",
      "|       Ruby|                 11|\n",
      "|     Delphi|                  7|\n",
      "|          R|                  3|\n",
      "|       Bash|                  3|\n",
      "+-----------+-------------------+\n",
      "\n",
      "+-----------+-------------------+\n",
      "|   Language|Mentions_count_2011|\n",
      "+-----------+-------------------+\n",
      "|        PHP|                 97|\n",
      "|       Java|                 92|\n",
      "| JavaScript|                 82|\n",
      "|     Python|                 35|\n",
      "|Objective-C|                 33|\n",
      "|          C|                 24|\n",
      "|       Ruby|                 17|\n",
      "|     Delphi|                  8|\n",
      "|       Perl|                  8|\n",
      "|       Bash|                  7|\n",
      "+-----------+-------------------+\n",
      "\n",
      "+-----------+-------------------+\n",
      "|   Language|Mentions_count_2012|\n",
      "+-----------+-------------------+\n",
      "|        PHP|                136|\n",
      "| JavaScript|                129|\n",
      "|       Java|                124|\n",
      "|     Python|                 65|\n",
      "|Objective-C|                 45|\n",
      "|          C|                 27|\n",
      "|       Ruby|                 25|\n",
      "|       Bash|                  9|\n",
      "|          R|                  9|\n",
      "|     MATLAB|                  6|\n",
      "+-----------+-------------------+\n",
      "\n",
      "+-----------+-------------------+\n",
      "|   Language|Mentions_count_2013|\n",
      "+-----------+-------------------+\n",
      "| JavaScript|                196|\n",
      "|       Java|                191|\n",
      "|        PHP|                173|\n",
      "|     Python|                 87|\n",
      "|Objective-C|                 40|\n",
      "|          C|                 36|\n",
      "|       Ruby|                 30|\n",
      "|          R|                 25|\n",
      "|       Bash|                 11|\n",
      "|      Scala|                 10|\n",
      "+-----------+-------------------+\n",
      "\n",
      "+-----------+-------------------+\n",
      "|   Language|Mentions_count_2014|\n",
      "+-----------+-------------------+\n",
      "| JavaScript|                235|\n",
      "|       Java|                228|\n",
      "|        PHP|                154|\n",
      "|     Python|                103|\n",
      "|          C|                 52|\n",
      "|Objective-C|                 49|\n",
      "|          R|                 28|\n",
      "|       Ruby|                 20|\n",
      "|     MATLAB|                 16|\n",
      "|       Bash|                 13|\n",
      "+-----------+-------------------+\n",
      "\n",
      "+-----------+-------------------+\n",
      "|   Language|Mentions_count_2015|\n",
      "+-----------+-------------------+\n",
      "| JavaScript|                270|\n",
      "|       Java|                208|\n",
      "|        PHP|                147|\n",
      "|     Python|                119|\n",
      "|          R|                 43|\n",
      "|          C|                 38|\n",
      "|Objective-C|                 30|\n",
      "|       Ruby|                 20|\n",
      "|     MATLAB|                 16|\n",
      "|      Scala|                 13|\n",
      "+-----------+-------------------+\n",
      "\n",
      "+----------+-------------------+\n",
      "|  Language|Mentions_count_2016|\n",
      "+----------+-------------------+\n",
      "|JavaScript|                271|\n",
      "|      Java|                178|\n",
      "|    Python|                140|\n",
      "|       PHP|                126|\n",
      "|         R|                 50|\n",
      "|         C|                 32|\n",
      "|      Ruby|                 21|\n",
      "|      Bash|                 16|\n",
      "|     Scala|                 16|\n",
      "|    MATLAB|                 15|\n",
      "+----------+-------------------+\n",
      "\n",
      "+-----------+-------------------+\n",
      "|   Language|Mentions_count_2017|\n",
      "+-----------+-------------------+\n",
      "| JavaScript|                244|\n",
      "|       Java|                204|\n",
      "|     Python|                185|\n",
      "|        PHP|                122|\n",
      "|          R|                 53|\n",
      "|          C|                 24|\n",
      "|Objective-C|                 19|\n",
      "|       Ruby|                 16|\n",
      "| TypeScript|                 14|\n",
      "| PowerShell|                 14|\n",
      "+-----------+-------------------+\n",
      "\n",
      "+----------+-------------------+\n",
      "|  Language|Mentions_count_2018|\n",
      "+----------+-------------------+\n",
      "|    Python|                214|\n",
      "|JavaScript|                194|\n",
      "|      Java|                145|\n",
      "|       PHP|                 99|\n",
      "|         R|                 63|\n",
      "|         C|                 24|\n",
      "|     Scala|                 22|\n",
      "|TypeScript|                 21|\n",
      "|PowerShell|                 13|\n",
      "|      Bash|                 12|\n",
      "+----------+-------------------+\n",
      "\n",
      "+----------+-------------------+\n",
      "|  Language|Mentions_count_2019|\n",
      "+----------+-------------------+\n",
      "|    Python|                162|\n",
      "|JavaScript|                131|\n",
      "|      Java|                 95|\n",
      "|       PHP|                 59|\n",
      "|         R|                 36|\n",
      "|         C|                 14|\n",
      "|        Go|                  9|\n",
      "|    MATLAB|                  9|\n",
      "|      Dart|                  9|\n",
      "|      Bash|                  8|\n",
      "+----------+-------------------+\n",
      "\n"
     ]
    }
   ],
   "source": [
    "# Дата берется в промежуток 2010-2019 (правая граница в сигнатуре цикла не включается)\n",
    "# Фильтруется по промежутку дат, затем находятся языки, которые фильтруется на непустые строки\n",
    "# Далее считается количество вхождений каждого языка\n",
    "# В конце сортируется по убыванию и возвращается DataFrame\n",
    "\n",
    "result = {}\n",
    "\n",
    "for year in range(2010, 2020):\n",
    "  result[year] = posts_samples.rdd\\\n",
    "      .filter(lambda x: x._Tags is not None and isDateValid(x, year))\\\n",
    "      .map(findLanguages)\\\n",
    "      .filter(lambda x: x is not None)\\\n",
    "      .keyBy(lambda x: x[1])\\\n",
    "      .aggregateByKey(\n",
    "          0,\n",
    "          lambda x, y: x + 1,\n",
    "          lambda x1, x2: x1 + x2,\n",
    "      )\\\n",
    "      .sortBy(lambda x: x[1], ascending=False)\\\n",
    "      .toDF()\n",
    "\n",
    "  result[year] = result[year].select(col(\"_1\").alias(\"Language\"), \n",
    "                                                 col(\"_2\").alias(f\"Mentions_count_{year}\")).limit(10)\n",
    "  result[year].show()\n"
   ]
  },
  {
   "cell_type": "markdown",
   "metadata": {
    "id": "YByoxKXEQNP9"
   },
   "source": [
    "**Сохранение результатов**"
   ]
  },
  {
   "cell_type": "code",
   "execution_count": 15,
   "metadata": {
    "id": "TFv_endMQRKP"
   },
   "outputs": [],
   "source": [
    "for i in result.keys():\n",
    "    result[i].write.format(\"parquet\").save(f\"{i}\")"
   ]
  },
  {
   "cell_type": "code",
   "execution_count": null,
   "metadata": {},
   "outputs": [],
   "source": []
  }
 ],
 "metadata": {
  "colab": {
   "provenance": []
  },
  "kernelspec": {
   "display_name": "Python 3",
   "language": "python",
   "name": "python3"
  },
  "language_info": {
   "codemirror_mode": {
    "name": "ipython",
    "version": 3
   },
   "file_extension": ".py",
   "mimetype": "text/x-python",
   "name": "python",
   "nbconvert_exporter": "python",
   "pygments_lexer": "ipython3",
   "version": "3.6.9"
  }
 },
 "nbformat": 4,
 "nbformat_minor": 1
}
