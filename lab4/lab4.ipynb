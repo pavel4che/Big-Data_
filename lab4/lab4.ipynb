{
 "cells": [
  {
   "cell_type": "code",
   "execution_count": 8,
   "metadata": {
    "colab": {
     "base_uri": "https://localhost:8080/",
     "height": 373
    },
    "id": "8SliDa1phHRj",
    "outputId": "20c9323e-4ff6-434f-ffaa-8e5c7c0d60e5"
   },
   "outputs": [],
   "source": [
    "from logging import basicConfig\n",
    "from threading import Thread\n",
    "from time import sleep\n",
    "from kazoo.client import KazooClient\n",
    "import random\n",
    "import sys"
   ]
  },
  {
   "cell_type": "code",
   "execution_count": 9,
   "metadata": {
    "id": "kCskNv_KjlLS"
   },
   "outputs": [],
   "source": [
    "ACTION_COMMIT =   b'commit'\n",
    "ACTION_ROLLBACK = b'rollback'\n",
    "WAIT_TIME = 5"
   ]
  },
  {
   "cell_type": "code",
   "execution_count": 10,
   "metadata": {
    "id": "hSP9jYILhidR"
   },
   "outputs": [],
   "source": [
    "basicConfig()"
   ]
  },
  {
   "cell_type": "code",
   "execution_count": 11,
   "metadata": {
    "id": "MDYrACW5hjRo"
   },
   "outputs": [],
   "source": [
    "class Client(Thread):\n",
    "  def __init__(self, root: str, id: int):\n",
    "    super().__init__()\n",
    "    self.url = f\"{root}/{id}\"\n",
    "    self.root = root\n",
    "    self.id = id\n",
    "\n",
    "  def run(self):\n",
    "        client = KazooClient()\n",
    "        client.start()\n",
    "\n",
    "        value = ACTION_COMMIT if random.random() > 0.5 else ACTION_ROLLBACK\n",
    "        print(f\"Client {self.id} request {value.decode()}\")\n",
    "        \n",
    "        client.create(self.url, value, ephemeral=True)\n",
    "        \n",
    "        @client.DataWatch(self.url)\n",
    "        def watch_self(data, stat):\n",
    "            if stat.version > 0:\n",
    "                print(f\"Client {self.id} do {data.decode()}\")\n",
    "\n",
    "        sleep(WAIT_TIME)\n",
    "        client.stop()\n",
    "        client.close()"
   ]
  },
  {
   "cell_type": "code",
   "execution_count": 12,
   "metadata": {
    "id": "NiSYjftNimbe"
   },
   "outputs": [],
   "source": [
    "class Coordinator():\n",
    "    def main(self):\n",
    "        coord = KazooClient()\n",
    "        coord.start()\n",
    "\n",
    "        if coord.exists(\"/task2\"):\n",
    "            coord.delete(\"/task2\", recursive=True)\n",
    "\n",
    "        coord.create(\"/task2\")\n",
    "        coord.create(\"/task2/transaction\")\n",
    "\n",
    "        n_clients = 5\n",
    "\n",
    "        def solution():\n",
    "            clients = coord.get_children(\"/task2/transaction\")\n",
    "            commits, rollbacks = 0, 0\n",
    "            \n",
    "            for clt in clients:\n",
    "                commits += int(coord.get(f\"/task2/transaction/{clt}\")[0] == ACTION_COMMIT)\n",
    "                rollbacks += int(coord.get(f\"/task2/transaction/{clt}\")[0] == ACTION_ROLLBACK)\n",
    "\n",
    "            for clt in clients:\n",
    "                coord.set(f\"/task2/transaction/{clt}\", b\"commit\" if commits > rollbacks else ACTION_ROLLBACK)\n",
    "\n",
    "        @coord.ChildrenWatch(\"/task2/transaction\")\n",
    "        def check_clients(clients):\n",
    "            if len(clients) < n_clients:\n",
    "                print(f\"Waiting others clients: {clients}\")\n",
    "\n",
    "            elif len(clients) == n_clients:\n",
    "                print(\"Check clients\")\n",
    "                solution()\n",
    "\n",
    "        for x in range(5):\n",
    "            begin=Client(\"/task2/transaction\", x)\n",
    "            begin.start()\n"
   ]
  },
  {
   "cell_type": "code",
   "execution_count": 13,
   "metadata": {
    "id": "jQqw6ty0io9s"
   },
   "outputs": [
    {
     "name": "stdout",
     "output_type": "stream",
     "text": [
      "Waiting others clients: []\n",
      "Client 0 request rollback\n",
      "Client 2 request rollback\n",
      "Client 1 request rollback\n",
      "Client 4 request rollback\n",
      "Client 3 request rollback\n",
      "Check clients\n",
      "Client 0 do rollback\n",
      "Client 1 do rollback\n",
      "Client 2 do rollback\n",
      "Client 3 do rollback\n",
      "Client 4 do rollback\n",
      "Waiting others clients: []\n"
     ]
    }
   ],
   "source": [
    "Coordinator().main()"
   ]
  },
  {
   "cell_type": "code",
   "execution_count": null,
   "metadata": {},
   "outputs": [],
   "source": []
  }
 ],
 "metadata": {
  "colab": {
   "provenance": []
  },
  "kernelspec": {
   "display_name": "Python 3 (ipykernel)",
   "language": "python",
   "name": "python3"
  },
  "language_info": {
   "codemirror_mode": {
    "name": "ipython",
    "version": 3
   },
   "file_extension": ".py",
   "mimetype": "text/x-python",
   "name": "python",
   "nbconvert_exporter": "python",
   "pygments_lexer": "ipython3",
   "version": "3.7.3"
  }
 },
 "nbformat": 4,
 "nbformat_minor": 1
}
